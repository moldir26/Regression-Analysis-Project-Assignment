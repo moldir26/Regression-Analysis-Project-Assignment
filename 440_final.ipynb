{
  "cells": [
    {
      "cell_type": "markdown",
      "source": [
        "## MATH 440 Regression Analysis Project\n",
        "\n",
        "*by Moldir Berkaliyeva*"
      ],
      "metadata": {
        "id": "1ZW8w5bjz5pu"
      },
      "id": "1ZW8w5bjz5pu"
    },
    {
      "cell_type": "code",
      "source": [
        "from google.colab import drive\n",
        "drive.mount('/content/gdrive', force_remount=True)"
      ],
      "metadata": {
        "colab": {
          "base_uri": "https://localhost:8080/"
        },
        "id": "tmQckZAQLAEl",
        "outputId": "6f247371-c367-4597-ec93-5f37bf2ca706"
      },
      "id": "tmQckZAQLAEl",
      "execution_count": 1,
      "outputs": [
        {
          "output_type": "stream",
          "name": "stdout",
          "text": [
            "Mounted at /content/gdrive\n"
          ]
        }
      ]
    },
    {
      "cell_type": "code",
      "execution_count": 2,
      "id": "95e0f84e",
      "metadata": {
        "id": "95e0f84e"
      },
      "outputs": [],
      "source": [
        "import pandas as pd\n",
        "\n",
        "data = pd.read_csv('/content/gdrive/MyDrive/data10.txt', header = None, sep = ' ')\n",
        "data.columns = data.columns + 1"
      ]
    },
    {
      "cell_type": "code",
      "execution_count": 3,
      "id": "b8abba27",
      "metadata": {
        "id": "b8abba27"
      },
      "outputs": [],
      "source": [
        "from sklearn.model_selection import train_test_split\n",
        "\n",
        "X = data.drop(14, axis = 1)\n",
        "Y = data[14]\n",
        "X_train, X_test, Y_train, Y_test = train_test_split(X, Y, test_size = 0.2, random_state = 1)"
      ]
    },
    {
      "cell_type": "code",
      "execution_count": 4,
      "id": "a9a1eb5c",
      "metadata": {
        "colab": {
          "base_uri": "https://localhost:8080/"
        },
        "id": "a9a1eb5c",
        "outputId": "670a0aec-e0c4-4329-c8fc-9f11d75d0c97"
      },
      "outputs": [
        {
          "output_type": "stream",
          "name": "stdout",
          "text": [
            "1 feature | cov 65.36360138203132\n",
            "2 feature | cov -137.00936990958155\n",
            "3 feature | cov 31.63303894088541\n",
            "4 feature | cov 97.13487681001735\n",
            "5 feature | cov 84.63269750627255\n",
            "6 feature | cov 259.65989603776063\n",
            "7 feature | cov -330.3242162784897\n",
            "8 feature | cov 224.18365629392875\n",
            "9 feature | cov 81.44083548451911\n",
            "10 feature | cov -30.021980416104174\n",
            "11 feature | cov -151.87596820914925\n",
            "12 feature | cov -378.70346210121517\n",
            "13 feature | cov -28.256187929479175\n"
          ]
        }
      ],
      "source": [
        "# 1 cov\n",
        "X_train_3 = X_train[3]\n",
        "def cov(x,y):\n",
        "    sum_prod = 0\n",
        "    for i in range(len(x)):\n",
        "        diff_x = x.iloc[i] - x.mean()\n",
        "        diff_y = y.iloc[i] - y.mean()\n",
        "        prod = diff_x * diff_y\n",
        "        sum_prod = sum_prod + prod\n",
        "    return sum_prod / len(x)\n",
        "for i in range(X.shape[1]):\n",
        "    print(i+1, 'feature | cov', cov(X_train[i+1], Y_train))"
      ]
    },
    {
      "cell_type": "code",
      "execution_count": 5,
      "id": "5140789f",
      "metadata": {
        "colab": {
          "base_uri": "https://localhost:8080/"
        },
        "id": "5140789f",
        "outputId": "b91e9516-db32-4452-8072-4f40ed6896f1"
      },
      "outputs": [
        {
          "output_type": "execute_result",
          "data": {
            "text/plain": [
              "0.058865357736906355"
            ]
          },
          "metadata": {},
          "execution_count": 5
        }
      ],
      "source": [
        "# 1 cor\n",
        "def cor(x,y):\n",
        "    std_x = x.std()\n",
        "    std_y = y.std()\n",
        "    return cov(x,y) / (std_x * std_y)\n",
        "cor(X_train_3, Y_train)"
      ]
    },
    {
      "cell_type": "code",
      "execution_count": 20,
      "id": "442a9a2f",
      "metadata": {
        "colab": {
          "base_uri": "https://localhost:8080/"
        },
        "id": "442a9a2f",
        "outputId": "f2c09f53-ac09-4d90-9bdb-b2ca41536680"
      },
      "outputs": [
        {
          "output_type": "execute_result",
          "data": {
            "text/plain": [
              "0.051179637404797064"
            ]
          },
          "metadata": {},
          "execution_count": 20
        }
      ],
      "source": [
        "#2 cor abs\n",
        "X_train_10 = X_train[10]\n",
        "abs(cor(X_train_10, Y_train))"
      ]
    },
    {
      "cell_type": "markdown",
      "source": [
        "**Question 1:** *Based only on the latter correlation, can you list all variables that is relevant for prediction?*\n",
        "\n",
        "Using the given formula, I calculated correlation between each variable and target values. Based on this calculation, features numbered 6, 7, 8, 11, 12 are relevant for prediction because they have moderate and strong correlation coefficients.\n",
        "\n"
      ],
      "metadata": {
        "id": "x-2_y5P35rtb"
      },
      "id": "x-2_y5P35rtb"
    },
    {
      "cell_type": "code",
      "execution_count": 7,
      "id": "be3392bc",
      "metadata": {
        "colab": {
          "base_uri": "https://localhost:8080/"
        },
        "id": "be3392bc",
        "outputId": "d7a5ad08-6200-4fc6-8352-03eade19449d"
      },
      "outputs": [
        {
          "output_type": "stream",
          "name": "stdout",
          "text": [
            "1 feature | cov 0.1270351393612669\n",
            "2 feature | cov 0.2568542051816388\n",
            "3 feature | cov 0.058865357736906355\n",
            "4 feature | cov 0.17567458246638093\n",
            "5 feature | cov 0.141675104504233\n",
            "6 feature | cov 0.519710859988485\n",
            "7 feature | cov 0.6737825555888912\n",
            "8 feature | cov 0.4050710474882703\n",
            "9 feature | cov 0.14148477691204192\n",
            "10 feature | cov 0.051179637404797064\n",
            "11 feature | cov 0.32026859253120515\n",
            "12 feature | cov 0.620792674811599\n",
            "13 feature | cov 0.05571785764153828\n"
          ]
        }
      ],
      "source": [
        "#3 cor abs all\n",
        "for i in range(X.shape[1]):\n",
        "    print(i+1, 'feature | cov', abs(cor(X_train[i+1], Y_train)))"
      ]
    },
    {
      "cell_type": "markdown",
      "source": [
        "**Question 2:** *What conclusion can you make about the structure of your predictors after analysis of correlation matrix?*\n",
        "\n",
        "Based on the correlation matrix above, there are some highly correlated features. For example, (X1, X9), (X2, X11), (X4, X5), (X6, X8), (X7, X12), (X10, X13). So, we can merge them somehow or ignore the corresponding second pair. Since highly correlated features influence the response variable in the same way, we can keep only one of them in each pair."
      ],
      "metadata": {
        "id": "YtL4Wtcq57jg"
      },
      "id": "YtL4Wtcq57jg"
    },
    {
      "cell_type": "code",
      "execution_count": 8,
      "id": "c1aa31a4",
      "metadata": {
        "colab": {
          "base_uri": "https://localhost:8080/",
          "height": 269
        },
        "id": "c1aa31a4",
        "outputId": "47c99489-3530-433f-e805-ba7f67be4fd9"
      },
      "outputs": [
        {
          "output_type": "display_data",
          "data": {
            "text/plain": [
              "<Figure size 432x288 with 2 Axes>"
            ],
            "image/png": "[encoded data removed]"
          },
          "metadata": {
            "needs_background": "light"
          }
        }
      ],
      "source": [
        "#4 cor matrix\n",
        "import seaborn as sns\n",
        "import matplotlib.pyplot as plt\n",
        "sns.heatmap(X_train.corr())\n",
        "plt.show()"
      ]
    },
    {
      "cell_type": "code",
      "execution_count": 9,
      "id": "424604a5",
      "metadata": {
        "colab": {
          "base_uri": "https://localhost:8080/"
        },
        "id": "424604a5",
        "outputId": "c22cdfc3-83d8-402a-ef6f-b5f16679979a"
      },
      "outputs": [
        {
          "output_type": "execute_result",
          "data": {
            "text/plain": [
              "array([ 4.99282178e-01,  7.34495344e-04, -1.23500698e-04,  9.97114067e-01,\n",
              "        3.75317125e-03,  2.99899528e+00, -3.99795386e+00,  2.82362584e-03,\n",
              "        1.53761942e-03, -3.44473431e-03, -2.00008073e+00,  2.77965816e-04,\n",
              "       -4.95620675e-01])"
            ]
          },
          "metadata": {},
          "execution_count": 9
        }
      ],
      "source": [
        "#6 weights\n",
        "from sklearn.linear_model import LinearRegression\n",
        "regr = LinearRegression().fit(X_train, Y_train)\n",
        "coef = regr.coef_\n",
        "coef"
      ]
    },
    {
      "cell_type": "code",
      "execution_count": 10,
      "id": "da911be1",
      "metadata": {
        "colab": {
          "base_uri": "https://localhost:8080/"
        },
        "id": "da911be1",
        "outputId": "5c4c9275-25bf-498b-d64b-4d413fe42592"
      },
      "outputs": [
        {
          "output_type": "execute_result",
          "data": {
            "text/plain": [
              "array([ 9.99609120e+00,  4.99282178e-01,  7.34495344e-04, -1.23500698e-04,\n",
              "        9.97114067e-01,  3.75317125e-03,  2.99899528e+00, -3.99795386e+00,\n",
              "        2.82362584e-03,  1.53761942e-03, -3.44473431e-03, -2.00008073e+00,\n",
              "        2.77965816e-04, -4.95620675e-01])"
            ]
          },
          "metadata": {},
          "execution_count": 10
        }
      ],
      "source": [
        "#7 b estimators\n",
        "import numpy as np\n",
        "X_train.insert(0, 0, 1)\n",
        "X_train_T = X_train.transpose()\n",
        "XtX = np.dot(X_train_T, X_train)\n",
        "XtX_inv = np.linalg.inv(XtX)\n",
        "X_prod = np.dot(XtX_inv, X_train_T)\n",
        "b = np.dot(X_prod, Y_train)\n",
        "b"
      ]
    },
    {
      "cell_type": "code",
      "execution_count": 11,
      "id": "bf73f6dc",
      "metadata": {
        "colab": {
          "base_uri": "https://localhost:8080/"
        },
        "id": "bf73f6dc",
        "outputId": "3d2c8bc1-3244-4fb0-e69b-b0403689fe58"
      },
      "outputs": [
        {
          "output_type": "execute_result",
          "data": {
            "text/plain": [
              "0.05011900457350562"
            ]
          },
          "metadata": {},
          "execution_count": 11
        }
      ],
      "source": [
        "#8 error var\n",
        "e = Y_train - np.dot(X_train, b)\n",
        "mse = e.var()\n",
        "mse"
      ]
    },
    {
      "cell_type": "code",
      "execution_count": 12,
      "id": "f3a45e8e",
      "metadata": {
        "colab": {
          "base_uri": "https://localhost:8080/"
        },
        "id": "f3a45e8e",
        "outputId": "94b11818-c172-4fcf-dcaa-b566389cfd6d"
      },
      "outputs": [
        {
          "output_type": "stream",
          "name": "stdout",
          "text": [
            "t_1 = 156.4110135780695\n",
            "t_2 = 0.2560670802056189\n",
            "t_3 = 0.08821286739150737\n",
            "t_4 = 304.64787140076817\n",
            "t_5 = 1.2352795369495104\n",
            "t_6 = 880.3487168365023\n",
            "t_7 = 1113.6960911710144\n",
            "t_8 = 0.9141988589786394\n",
            "t_9 = 0.5359719176733461\n",
            "t_10 = 1.162208304823856\n",
            "t_11 = 617.0276566940228\n",
            "t_12 = 0.09648870421704354\n",
            "t_13 = 144.60304852581802\n"
          ]
        }
      ],
      "source": [
        "#9 t vals\n",
        "for i in range(1,len(b)):\n",
        "    t_i = b[i] / (mse**0.5 * XtX_inv[i,i]**0.5)\n",
        "    print('t_{}'.format(i), '=', abs(t_i))"
      ]
    },
    {
      "cell_type": "markdown",
      "source": [
        "**Question 3:** *List variables that can be discarded.*\n",
        "\n",
        "Based on t values, we need to drop variable 2, 3, 5, 8, 9, 10, 12, and 13. However, we cannot be certain about this conclusion because correlation matrix of all non-target features gives contradictory insight. We observed that some predictors are highly correlated, thus, can be dropped (for example, 10, 4, and 7)"
      ],
      "metadata": {
        "id": "3aIQukpk5_j_"
      },
      "id": "3aIQukpk5_j_"
    },
    {
      "cell_type": "code",
      "execution_count": 13,
      "id": "8f8243c7",
      "metadata": {
        "colab": {
          "base_uri": "https://localhost:8080/"
        },
        "id": "8f8243c7",
        "outputId": "f4bab685-f67c-4da3-97c0-4defe242e6bd"
      },
      "outputs": [
        {
          "output_type": "execute_result",
          "data": {
            "text/plain": [
              "158    0.217098\n",
              "150    0.219377\n",
              "102   -0.310629\n",
              "163    0.295508\n",
              "112    0.266726\n",
              "         ...   \n",
              "203    0.128122\n",
              "255   -0.356012\n",
              "72    -0.078957\n",
              "235    0.008159\n",
              "37     0.156783\n",
              "Name: 14, Length: 240, dtype: float64"
            ]
          },
          "metadata": {},
          "execution_count": 13
        }
      ],
      "source": [
        "#12 resid\n",
        "resid = Y_train - np.dot(X_train, b)\n",
        "resid"
      ]
    },
    {
      "cell_type": "code",
      "execution_count": 30,
      "id": "5bd60bc0",
      "metadata": {
        "colab": {
          "base_uri": "https://localhost:8080/",
          "height": 279
        },
        "id": "5bd60bc0",
        "outputId": "53f3f9a8-c7a5-426a-8ce3-247a8053f66f"
      },
      "outputs": [
        {
          "output_type": "display_data",
          "data": {
            "text/plain": [
              "<Figure size 432x288 with 1 Axes>"
            ],
            "image/png": "[encoded data removed]"
          },
          "metadata": {
            "needs_background": "light"
          }
        }
      ],
      "source": [
        "import statsmodels.api as sm\n",
        "sm.qqplot(resid, line = \"45\", fit = True)\n",
        "plt.show()\n"
      ]
    },
    {
      "cell_type": "markdown",
      "source": [
        "**Question 4:** *Is an error normally distributed, yes or no (based on Q-Q plot)?*\n",
        "\n",
        "If we look at the QQ-plot above, we can clearly see residuals are normally distributed. It is because distribution follows a straight line."
      ],
      "metadata": {
        "id": "1aako2a56FTr"
      },
      "id": "1aako2a56FTr"
    },
    {
      "cell_type": "code",
      "execution_count": 15,
      "id": "78f31082",
      "metadata": {
        "colab": {
          "base_uri": "https://localhost:8080/",
          "height": 265
        },
        "id": "78f31082",
        "outputId": "7c411ef4-e29f-419d-f6b2-8700074c52c3"
      },
      "outputs": [
        {
          "output_type": "display_data",
          "data": {
            "text/plain": [
              "<Figure size 432x288 with 1 Axes>"
            ],
            "image/png": "[encoded data removed]"
          },
          "metadata": {
            "needs_background": "light"
          }
        }
      ],
      "source": [
        "plt.scatter(resid, np.dot(X_train, b))\n",
        "plt.hlines(0,-0.6,0.6, 'black')\n",
        "plt.show()"
      ]
    },
    {
      "cell_type": "markdown",
      "source": [
        "**Question 5:** *If your error is not normal, what would you assume about the real distribution of an error (based on the latter plot)?*\n",
        "\n",
        "Error is normal since distribution along horizontal line (y = 0) is the same above and below the line."
      ],
      "metadata": {
        "id": "VKGAanfQ6J8l"
      },
      "id": "VKGAanfQ6J8l"
    },
    {
      "cell_type": "code",
      "execution_count": 16,
      "id": "c4622240",
      "metadata": {
        "colab": {
          "base_uri": "https://localhost:8080/"
        },
        "id": "c4622240",
        "outputId": "a7210677-eaf7-44fc-ec94-5b3b1e30015e"
      },
      "outputs": [
        {
          "output_type": "execute_result",
          "data": {
            "text/plain": [
              "0.9999834920131319"
            ]
          },
          "metadata": {},
          "execution_count": 16
        }
      ],
      "source": [
        "#16 r^2\n",
        "Y_estimate = regr.predict(X_test)\n",
        "def r_sq(Y_test, Y_estimate):\n",
        "    sum_num = 0\n",
        "    sum_denom = 0\n",
        "    for i in range(len(Y_test)):\n",
        "        diff_num = (Y_test.iloc[i] - Y_estimate[i])**2\n",
        "        sum_num = sum_num + diff_num\n",
        "        diff_denom = (Y_test.iloc[i] - Y_test.mean())**2\n",
        "        sum_denom = sum_denom + diff_denom\n",
        "    return 1 - sum_num / sum_denom \n",
        "r_sq(Y_test, Y_estimate)"
      ]
    },
    {
      "cell_type": "code",
      "source": [
        "from sklearn.metrics import r2_score\n"
      ],
      "metadata": {
        "id": "H5duRD1SL20z"
      },
      "id": "H5duRD1SL20z",
      "execution_count": 17,
      "outputs": []
    },
    {
      "cell_type": "code",
      "source": [
        "r2_score(Y_test, Y_estimate)"
      ],
      "metadata": {
        "colab": {
          "base_uri": "https://localhost:8080/"
        },
        "id": "a1Hks6yjOLXz",
        "outputId": "0d6b092e-1730-4601-bb52-2bbbe0bef411"
      },
      "id": "a1Hks6yjOLXz",
      "execution_count": 19,
      "outputs": [
        {
          "output_type": "execute_result",
          "data": {
            "text/plain": [
              "0.9999834920131319"
            ]
          },
          "metadata": {},
          "execution_count": 19
        }
      ]
    },
    {
      "cell_type": "markdown",
      "source": [
        "**Question 6:** *Give the final verdict: did linear regression model solved the prediction problem\n",
        "or not?*\n",
        "\n",
        "After all the work done, we can conclude that linear regression solved the prediction problem. Even though we had collinear features, and did not check other model assumptions, based on this scope of work, regression was well done since R squared is 0.9999834920131319 which is a good result. Normality assumption was checked in 2 ways that resulted in the same insight. Considering calculations and observations, the regression model was implemented successfully."
      ],
      "metadata": {
        "id": "cERI-vKa6MeU"
      },
      "id": "cERI-vKa6MeU"
    }
  ],
  "metadata": {
    "kernelspec": {
      "display_name": "Python 3 (ipykernel)",
      "language": "python",
      "name": "python3"
    },
    "language_info": {
      "codemirror_mode": {
        "name": "ipython",
        "version": 3
      },
      "file_extension": ".py",
      "mimetype": "text/x-python",
      "name": "python",
      "nbconvert_exporter": "python",
      "pygments_lexer": "ipython3",
      "version": "3.9.12"
    },
    "colab": {
      "provenance": []
    }
  },
  "nbformat": 4,
  "nbformat_minor": 5
}